{
 "cells": [
  {
   "cell_type": "code",
   "execution_count": 41,
   "metadata": {},
   "outputs": [],
   "source": [
    "import pandas as pd\n",
    "import datetime\n",
    "from datetime import datetime\n",
    "from dateutil import parser"
   ]
  },
  {
   "cell_type": "markdown",
   "metadata": {},
   "source": [
    "[Write a Pandas program to create](https://www.w3resource.com/python-exercises/pandas/time-series/pandas-time-series-exercise-1.php) <br />\n",
    "a) Datetime object for Jan 15 2012. <br />\n",
    "b) Specific date and time of 9:20 pm. <br />\n",
    "c) Local date and time. <br />\n",
    "d) A date without time. <br />\n",
    "e) Current date. <br />\n",
    "f) Time from a datetime. <br />\n",
    "g) Current local time. <br />"
   ]
  },
  {
   "cell_type": "code",
   "execution_count": 28,
   "metadata": {},
   "outputs": [
    {
     "name": "stdout",
     "output_type": "stream",
     "text": [
      "a) 2012-01-15 00:00:00\n",
      "b) 2021-01-15 21:20:00\n",
      "c) 2021-03-10 11:11:42.656912\n",
      "d) 2012-01-15\n",
      "e) 2021-03-10\n",
      "f) 21:20:00\n",
      "g) 11:11:42.656912\n"
     ]
    }
   ],
   "source": [
    "print(\"a)\", datetime(2012, 1, 15))\n",
    "print(\"b)\", datetime(2021, 1, 15, 21, 20))\n",
    "print(\"c)\", datetime.now())\n",
    "print(\"d)\", datetime.date(datetime(2012, 1, 15)))\n",
    "print(\"e)\", datetime.now().date())\n",
    "print(\"f)\", datetime.time(datetime(2012, 1, 15, 21, 20)))\n",
    "print(\"g)\", datetime.now().time())"
   ]
  },
  {
   "cell_type": "markdown",
   "metadata": {},
   "source": [
    "[Write a Pandas program to create](https://www.w3resource.com/python-exercises/pandas/time-series/pandas-time-series-exercise-2.php) <br>\n",
    "a) a specific date using timestamp. <br />\n",
    "b) date and time using timestamp. <br />\n",
    "c) a time adds in the current local date using timestamp. <br />\n",
    "d) current date and time using timestamp. <br />"
   ]
  },
  {
   "cell_type": "code",
   "execution_count": 39,
   "metadata": {},
   "outputs": [
    {
     "name": "stdout",
     "output_type": "stream",
     "text": [
      "a) 2018-01-05 00:00:00\n",
      "b) 2021-01-15 21:20:00\n",
      "c) 2021-03-10 11:30:00\n",
      "d) 2021-03-10 11:18:48.914000\n"
     ]
    }
   ],
   "source": [
    "print(\"a)\", pd.Timestamp(\"2018-01-05\"))\n",
    "print(\"b)\", pd.Timestamp(\"2021-1-15 21:20\"))\n",
    "print(\"c)\", pd.Timestamp(\"11:30\"))\n",
    "print(\"d)\", pd.Timestamp(\"now\"))"
   ]
  },
  {
   "cell_type": "markdown",
   "metadata": {},
   "source": [
    "[Write a Pandas program to create a date from a given year, month, day and another date from a given string formats](https://www.w3resource.com/python-exercises/pandas/time-series/pandas-time-series-exercise-3.php)"
   ]
  },
  {
   "cell_type": "code",
   "execution_count": 45,
   "metadata": {},
   "outputs": [
    {
     "name": "stdout",
     "output_type": "stream",
     "text": [
      "Date from a given year, month, day:\n",
      "2020-10-25 00:00:00\n",
      "\n",
      "Date from a given string formats:\n",
      "2021-01-01 00:00:00\n"
     ]
    }
   ],
   "source": [
    "date1 = datetime(year=2020, month=10, day=25)\n",
    "print(\"Date from a given year, month, day:\")\n",
    "print(date1)\n",
    "date2 = parser.parse(\"1st of January, 2021\")\n",
    "print(\"\\nDate from a given string formats:\")\n",
    "print(date2)"
   ]
  },
  {
   "cell_type": "markdown",
   "metadata": {},
   "source": [
    "[Write a Pandas program to print the day after and before a specified date. Also print the days between two given dates.](https://www.w3resource.com/python-exercises/pandas/time-series/pandas-time-series-exercise-4.php)"
   ]
  },
  {
   "cell_type": "code",
   "execution_count": 64,
   "metadata": {},
   "outputs": [
    {
     "name": "stdout",
     "output_type": "stream",
     "text": [
      "Day/Date Specified:  2021-03-10\n",
      "Day Before:  2021-03-09\n",
      "Day After:  2021-03-11\n",
      "----------\n",
      "Difference between 2 dates:  3 days, 0:00:00\n"
     ]
    }
   ],
   "source": [
    "date1 = datetime.now()\n",
    "before = date1-pd.Timedelta(\"1 day\")\n",
    "after = date1+pd.Timedelta(days=1)\n",
    "print(\"Day/Date Specified: \", date1.date())\n",
    "print(\"Day Before: \", before.date())\n",
    "print(\"Day After: \", after.date())\n",
    "\n",
    "print(\"----------\")\n",
    "\n",
    "print(\"Difference between 2 dates: \", datetime(2021, 3, 12) - datetime(2021, 3, 9))"
   ]
  },
  {
   "cell_type": "markdown",
   "metadata": {},
   "source": [
    "[Write a Pandas program to create a time-series with two index labels and random values. Also print the type of the index.](https://www.w3resource.com/python-exercises/pandas/time-series/pandas-time-series-exercise-5.php)"
   ]
  },
  {
   "cell_type": "code",
   "execution_count": 65,
   "metadata": {},
   "outputs": [
    {
     "name": "stdout",
     "output_type": "stream",
     "text": [
      "Time-series with two index labels:\n",
      "2011-09-01   -0.297348\n",
      "2011-09-02    0.465183\n",
      "dtype: float64\n",
      "\n",
      "Type of the index:\n",
      "<class 'pandas.core.indexes.datetimes.DatetimeIndex'>\n"
     ]
    }
   ],
   "source": [
    "dates = [datetime(2011, 9, 1), datetime(2011, 9, 2)]\n",
    "print(\"Time-series with two index labels:\")\n",
    "time_series = pd.Series(np.random.randn(2), dates)\n",
    "print(time_series)\n",
    "print(\"\\nType of the index:\")\n",
    "print(type(time_series.index))"
   ]
  },
  {
   "cell_type": "markdown",
   "metadata": {},
   "source": [
    "[Write a Pandas program to create a time-series from a given list of dates as strings.](https://www.w3resource.com/python-exercises/pandas/time-series/pandas-time-series-exercise-6.php)"
   ]
  },
  {
   "cell_type": "code",
   "execution_count": 69,
   "metadata": {},
   "outputs": [
    {
     "data": {
      "text/plain": [
       "0    2014-08-01\n",
       "1    2014-08-02\n",
       "2    2014-08-03\n",
       "3    2014-08-04\n",
       "dtype: object"
      ]
     },
     "execution_count": 69,
     "metadata": {},
     "output_type": "execute_result"
    }
   ],
   "source": [
    "dates = ['2014-08-01','2014-08-02','2014-08-03','2014-08-04']\n",
    "ts = pd.Series(dates) # Series(data, index)"
   ]
  },
  {
   "cell_type": "markdown",
   "metadata": {},
   "source": [
    "[Write a Pandas program to create a time series object that has time indexed data. Also select the dates of same year and select the dates between certain dates.](https://www.w3resource.com/python-exercises/pandas/time-series/pandas-time-series-exercise-7.php)"
   ]
  },
  {
   "cell_type": "code",
   "execution_count": 77,
   "metadata": {},
   "outputs": [
    {
     "name": "stdout",
     "output_type": "stream",
     "text": [
      "Rows of a particular year:\n",
      "2015-09-03    3\n",
      "2015-03-03    5\n",
      "2015-04-03    7\n",
      "dtype: int64\n",
      "---------\n",
      "Rows within a range:\n",
      "2012-08-04    2\n",
      "2012-08-04    8\n",
      "dtype: int64\n"
     ]
    }
   ],
   "source": [
    "index = pd.DatetimeIndex(['2011-09-02', '2012-08-04',\n",
    "                          '2015-09-03', '2010-08-04',\n",
    "                          '2015-03-03', '2011-08-04',\n",
    "                          '2015-04-03', '2012-08-04'])\n",
    "\n",
    "ts = pd.Series([1, 2, 3, 4, 5, 6, 7, 8], index=index)\n",
    "\n",
    "print(\"Rows of a particular year:\")\n",
    "print(ts[\"2015\"])\n",
    "print(\"---------\")\n",
    "print(\"Rows within a range:\")\n",
    "print(ts[\"2012-01-01\":\"2012-12-31\"])"
   ]
  },
  {
   "cell_type": "markdown",
   "metadata": {},
   "source": [
    "[Write a Pandas program to create a date range using a startpoint date and a number of periods.](https://www.w3resource.com/python-exercises/pandas/time-series/pandas-time-series-exercise-8.php)"
   ]
  },
  {
   "cell_type": "code",
   "execution_count": 85,
   "metadata": {},
   "outputs": [
    {
     "data": {
      "text/plain": [
       "DatetimeIndex(['2018-01-01', '2018-01-02', '2018-01-03', '2018-01-04',\n",
       "               '2018-01-05', '2018-01-06', '2018-01-07', '2018-01-08',\n",
       "               '2018-01-09', '2018-01-10', '2018-01-11', '2018-01-12',\n",
       "               '2018-01-13', '2018-01-14', '2018-01-15', '2018-01-16',\n",
       "               '2018-01-17', '2018-01-18', '2018-01-19', '2018-01-20',\n",
       "               '2018-01-21', '2018-01-22', '2018-01-23', '2018-01-24',\n",
       "               '2018-01-25', '2018-01-26', '2018-01-27', '2018-01-28',\n",
       "               '2018-01-29', '2018-01-30'],\n",
       "              dtype='datetime64[ns]', freq='D')"
      ]
     },
     "execution_count": 85,
     "metadata": {},
     "output_type": "execute_result"
    }
   ],
   "source": [
    "ts = pd.date_range(\"2018-01-01\", periods=30, freq=\"D\") # freq == time units\n",
    "ts"
   ]
  },
  {
   "cell_type": "markdown",
   "metadata": {},
   "source": [
    "[Write a Pandas program to create a whole month of dates in daily frequencies. Also find the maximum, minimum timestamp and indexs](https://www.w3resource.com/python-exercises/pandas/time-series/pandas-time-series-exercise-8.php)"
   ]
  },
  {
   "cell_type": "code",
   "execution_count": 94,
   "metadata": {},
   "outputs": [
    {
     "name": "stdout",
     "output_type": "stream",
     "text": [
      "2021-03-01 00:00:00\n",
      "2021-03-31 00:00:00\n",
      "0\n",
      "30\n",
      "0    2021-03-01\n",
      "1    2021-03-02\n",
      "2    2021-03-03\n",
      "3    2021-03-04\n",
      "4    2021-03-05\n",
      "5    2021-03-06\n",
      "6    2021-03-07\n",
      "7    2021-03-08\n",
      "8    2021-03-09\n",
      "9    2021-03-10\n",
      "10   2021-03-11\n",
      "11   2021-03-12\n",
      "12   2021-03-13\n",
      "13   2021-03-14\n",
      "14   2021-03-15\n",
      "15   2021-03-16\n",
      "16   2021-03-17\n",
      "17   2021-03-18\n",
      "18   2021-03-19\n",
      "19   2021-03-20\n",
      "20   2021-03-21\n",
      "21   2021-03-22\n",
      "22   2021-03-23\n",
      "23   2021-03-24\n",
      "24   2021-03-25\n",
      "25   2021-03-26\n",
      "26   2021-03-27\n",
      "27   2021-03-28\n",
      "28   2021-03-29\n",
      "29   2021-03-30\n",
      "30   2021-03-31\n",
      "dtype: datetime64[ns]\n"
     ]
    }
   ],
   "source": [
    "ts = pd.Series(pd.date_range(\"2021-03-01\", periods=31, freq=\"D\"))\n",
    "print(ts.min())\n",
    "print(ts.max())\n",
    "print(ts.idxmin())\n",
    "print(ts.idxmax())\n",
    "print(ts)"
   ]
  },
  {
   "cell_type": "markdown",
   "metadata": {},
   "source": [
    "[Write a Pandas program to convert year and day of year into a single datetime column of a dataframe.](https://www.w3resource.com/python-exercises/pandas/time-series/pandas-time-series-exercise-12.php)"
   ]
  },
  {
   "cell_type": "code",
   "execution_count": 96,
   "metadata": {},
   "outputs": [
    {
     "name": "stdout",
     "output_type": "stream",
     "text": [
      "Original DataFrame:\n",
      "   year  day_of_the_year\n",
      "0  2002              250\n",
      "1  2003              365\n",
      "2  2015                1\n",
      "3  2018              140\n",
      "----------\n",
      "Combined:\n",
      "   year  day_of_the_year  combined formatted_combined\n",
      "0  2002              250   2002250         2002-09-07\n",
      "1  2003              365   2003365         2003-12-31\n",
      "2  2015                1   2015001         2015-01-01\n",
      "3  2018              140   2018140         2018-05-20\n"
     ]
    }
   ],
   "source": [
    "data = {\\\n",
    "\"year\": [2002, 2003, 2015, 2018],\n",
    "\"day_of_the_year\": [250, 365, 1, 140]\n",
    "}\n",
    "df = pd.DataFrame(data)\n",
    "print(\"Original DataFrame:\")\n",
    "print(df)\n",
    "print(\"----------\")\n",
    "df[\"combined\"] = df[\"year\"]*1000 + df[\"day_of_the_year\"]\n",
    "df[\"formatted_combined\"] = pd.to_datetime(df[\"combined\"], format=\"%Y%j\")\n",
    "print(\"Combined:\")\n",
    "print(df)"
   ]
  },
  {
   "cell_type": "markdown",
   "metadata": {},
   "source": [
    "[Write a Pandas program to create a series of Timestamps from a DataFrame of integer or string columns. Also create a series of Timestamps using specified columns.](https://www.w3resource.com/python-exercises/pandas/time-series/pandas-time-series-exercise-13.php)"
   ]
  },
  {
   "cell_type": "code",
   "execution_count": 114,
   "metadata": {},
   "outputs": [
    {
     "name": "stdout",
     "output_type": "stream",
     "text": [
      "Original dataframe:\n",
      "   year  month  day  hour\n",
      "0  2018      2    4     2\n",
      "1  2019      3    5     3\n",
      "2  2020      4    6     4\n",
      "Combined timestamps:\n",
      "0   2018-02-04 02:00:00\n",
      "1   2019-03-05 03:00:00\n",
      "2   2020-04-06 04:00:00\n",
      "dtype: datetime64[ns]\n",
      "Just date:\n",
      "0   2018-02-04\n",
      "1   2019-03-05\n",
      "2   2020-04-06\n",
      "dtype: datetime64[ns]\n"
     ]
    }
   ],
   "source": [
    "df = pd.DataFrame({'year': [2018, 2019, 2020],\n",
    "                   'month': [2, 3, 4],\n",
    "                   'day': [4, 5, 6],\n",
    "                   'hour': [2, 3, 4]})\n",
    "print(\"Original dataframe:\")\n",
    "print(df)\n",
    "\n",
    "ts = pd.to_datetime(df)\n",
    "print(\"Combined timestamps:\")\n",
    "print(ts)\n",
    "\n",
    "print(\"Just date:\")\n",
    "ts = pd.to_datetime(df[[\"year\",\"month\",\"day\"]])\n",
    "print(ts)"
   ]
  },
  {
   "cell_type": "markdown",
   "metadata": {},
   "source": [
    "[Write a Pandas program to get a time series with the last working days of each month of a specific year.](https://www.w3resource.com/python-exercises/pandas/time-series/pandas-time-series-exercise-15.php)"
   ]
  },
  {
   "cell_type": "code",
   "execution_count": 116,
   "metadata": {},
   "outputs": [
    {
     "name": "stdout",
     "output_type": "stream",
     "text": [
      "last working days of each month of a specific year:\n",
      "         Date\n",
      "0  2021-01-29\n",
      "1  2021-02-26\n",
      "2  2021-03-31\n",
      "3  2021-04-30\n",
      "4  2021-05-31\n",
      "5  2021-06-30\n",
      "6  2021-07-30\n",
      "7  2021-08-31\n",
      "8  2021-09-30\n",
      "9  2021-10-29\n",
      "10 2021-11-30\n",
      "11 2021-12-31\n"
     ]
    }
   ],
   "source": [
    "dr = pd.date_range('2021-01-01', periods=12, freq='BM')\n",
    "df = pd.DataFrame(dr, columns=['Date'])\n",
    "print('last working days of each month of a specific year:')\n",
    "print(df)"
   ]
  },
  {
   "cell_type": "markdown",
   "metadata": {},
   "source": [
    "[Write a Pandas program to create a time series combining hour and minute](https://www.w3resource.com/python-exercises/pandas/time-series/pandas-time-series-exercise-16.php)"
   ]
  },
  {
   "cell_type": "code",
   "execution_count": 117,
   "metadata": {},
   "outputs": [
    {
     "name": "stdout",
     "output_type": "stream",
     "text": [
      "For a frequency of 1 hours 20 minutes, here we have combined the hour (H) and minute (T):\n",
      "\n",
      "TimedeltaIndex(['0 days 00:00:00', '0 days 01:20:00', '0 days 02:40:00',\n",
      "                '0 days 04:00:00', '0 days 05:20:00', '0 days 06:40:00',\n",
      "                '0 days 08:00:00', '0 days 09:20:00', '0 days 10:40:00',\n",
      "                '0 days 12:00:00', '0 days 13:20:00', '0 days 14:40:00',\n",
      "                '0 days 16:00:00', '0 days 17:20:00', '0 days 18:40:00',\n",
      "                '0 days 20:00:00', '0 days 21:20:00', '0 days 22:40:00',\n",
      "                '1 days 00:00:00', '1 days 01:20:00', '1 days 02:40:00',\n",
      "                '1 days 04:00:00', '1 days 05:20:00', '1 days 06:40:00',\n",
      "                '1 days 08:00:00', '1 days 09:20:00', '1 days 10:40:00',\n",
      "                '1 days 12:00:00', '1 days 13:20:00', '1 days 14:40:00'],\n",
      "               dtype='timedelta64[ns]', freq='80T')\n"
     ]
    }
   ],
   "source": [
    "import pandas as pd\n",
    "result = pd.timedelta_range(0, periods=30, freq=\"1H20T\")\n",
    "print(\"For a frequency of 1 hours 20 minutes, here we have combined the hour (H) and minute (T):\\n\")\n",
    "print(result)"
   ]
  },
  {
   "cell_type": "markdown",
   "metadata": {},
   "source": [
    "[Write a Pandas program to convert unix/epoch time to a regular time stamp in UTC. Also convert the said timestamp in to a given time zone.](https://www.w3resource.com/python-exercises/pandas/time-series/pandas-time-series-exercise-17.php)"
   ]
  },
  {
   "cell_type": "code",
   "execution_count": 127,
   "metadata": {},
   "outputs": [
    {
     "name": "stdout",
     "output_type": "stream",
     "text": [
      "Regular time stamp in UTC:\n",
      "2021-05-16 02:32:35\n",
      "\n",
      "Convert the said timestamp in to US/Pacific:\n",
      "2021-05-15 19:32:35-07:00\n",
      "\n",
      "Convert the said timestamp in to Europe/Berlin:\n",
      "2021-05-16 04:32:35+02:00\n"
     ]
    }
   ],
   "source": [
    "epoch_t = 1621132355\n",
    "time_stamp = pd.to_datetime(epoch_t, unit='s')\n",
    "# UTC (Coordinated Universal Time) is one of the well-known names of UTC+0 time zone which is 0h.\n",
    "# By default, time series objects of pandas do not have an assigned time zone.\n",
    "print(\"Regular time stamp in UTC:\")\n",
    "print(time_stamp)\n",
    "print(\"\\nConvert the said timestamp in to US/Pacific:\")\n",
    "print(time_stamp.tz_localize('UTC').tz_convert('US/Pacific'))\n",
    "print(\"\\nConvert the said timestamp in to Europe/Berlin:\")\n",
    "print(time_stamp.tz_localize('UTC').tz_convert('Europe/Berlin'))"
   ]
  },
  {
   "cell_type": "markdown",
   "metadata": {},
   "source": [
    "[Write a Pandas program to create a time series object with a time zone.](https://www.w3resource.com/python-exercises/pandas/time-series/pandas-time-series-exercise-18.php)"
   ]
  },
  {
   "cell_type": "code",
   "execution_count": 128,
   "metadata": {},
   "outputs": [
    {
     "name": "stdout",
     "output_type": "stream",
     "text": [
      "Timezone: Europe/Berlin:\n",
      "Using pytz:\n",
      "Europe/Berlin\n",
      "Using dateutil:\n",
      "tzfile('Europe/Berlin')\n",
      "\n",
      "US/Pacific:\n",
      "Using pytz:\n",
      "US/Pacific\n",
      "Using dateutil:\n",
      "tzfile('US/Pacific')\n"
     ]
    }
   ],
   "source": [
    "print(\"Timezone: Europe/Berlin:\")\n",
    "print(\"Using pytz:\")\n",
    "date_pytz = pd.Timestamp('2019-01-01', tz = 'Europe/Berlin')\n",
    "print(date_pytz.tz)  \n",
    "print(\"Using dateutil:\")\n",
    "date_util = pd.Timestamp('2019-01-01', tz = 'dateutil/Europe/Berlin')\n",
    "print(date_util.tz)\n",
    "print(\"\\nUS/Pacific:\")\n",
    "print(\"Using pytz:\")\n",
    "date_pytz = pd.Timestamp('2019-01-01', tz = 'US/Pacific')\n",
    "print(date_pytz.tz)  \n",
    "print(\"Using dateutil:\")\n",
    "date_util = pd.Timestamp('2019-01-01', tz = 'dateutil/US/Pacific')\n",
    "print(date_util.tz)"
   ]
  },
  {
   "cell_type": "code",
   "execution_count": null,
   "metadata": {},
   "outputs": [],
   "source": []
  }
 ],
 "metadata": {
  "kernelspec": {
   "display_name": "Python 3",
   "language": "python",
   "name": "python3"
  },
  "language_info": {
   "codemirror_mode": {
    "name": "ipython",
    "version": 3
   },
   "file_extension": ".py",
   "mimetype": "text/x-python",
   "name": "python",
   "nbconvert_exporter": "python",
   "pygments_lexer": "ipython3",
   "version": "3.8.5"
  }
 },
 "nbformat": 4,
 "nbformat_minor": 4
}
