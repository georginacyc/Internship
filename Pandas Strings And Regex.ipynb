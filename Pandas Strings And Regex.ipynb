{
 "cells": [
  {
   "cell_type": "code",
   "execution_count": 23,
   "metadata": {},
   "outputs": [],
   "source": [
    "import pandas as pd\n",
    "import numpy as np\n",
    "import re"
   ]
  },
  {
   "cell_type": "code",
   "execution_count": 6,
   "metadata": {},
   "outputs": [
    {
     "name": "stdout",
     "output_type": "stream",
     "text": [
      "Original Series: \n",
      "\n",
      "0         X\n",
      "1         Y\n",
      "2         Z\n",
      "3      Aaba\n",
      "4      Baca\n",
      "5       NaN\n",
      "6      CABA\n",
      "7      None\n",
      "8      bird\n",
      "9     horse\n",
      "10      dog\n",
      "dtype: object\n",
      "\n",
      "Upper Case: \n",
      "\n",
      "0         X\n",
      "1         Y\n",
      "2         Z\n",
      "3      AABA\n",
      "4      BACA\n",
      "5       NaN\n",
      "6      CABA\n",
      "7      None\n",
      "8      BIRD\n",
      "9     HORSE\n",
      "10      DOG\n",
      "dtype: object\n",
      "\n",
      "Lower Case: \n",
      "\n",
      "0         x\n",
      "1         y\n",
      "2         z\n",
      "3      aaba\n",
      "4      baca\n",
      "5       NaN\n",
      "6      caba\n",
      "7      None\n",
      "8      bird\n",
      "9     horse\n",
      "10      dog\n",
      "dtype: object\n"
     ]
    }
   ],
   "source": [
    "# https://www.w3resource.com/python-exercises/pandas/string/python-pandas-string-exercise-1.php\n",
    "\n",
    "s = pd.Series(['X', 'Y', 'Z', 'Aaba', 'Baca', np.nan, 'CABA', None, 'bird', 'horse', 'dog'])\n",
    "\n",
    "print(\"Original Series: \\n\")\n",
    "print(s)\n",
    "\n",
    "print(\"\\nUpper Case: \\n\")\n",
    "print(s.str.upper())\n",
    "\n",
    "print(\"\\nLower Case: \\n\")\n",
    "print(s.str.lower())"
   ]
  },
  {
   "cell_type": "code",
   "execution_count": 16,
   "metadata": {},
   "outputs": [
    {
     "name": "stdout",
     "output_type": "stream",
     "text": [
      "Original DataFrame:\n",
      "      name_code date_of_birth    age\n",
      "0       Company     12/05/2002  18.5\n",
      "1  Company a001     16/02/1999  21.2\n",
      "2   Company 123     25/09/1998  22.5\n",
      "3          1234     12/02/2022  22.0\n",
      "4    Company 12     15/09/1997  23.0\n",
      "\n",
      "With New Column:\n",
      "      name_code date_of_birth    age  namecode_isalnum\n",
      "0       Company     12/05/2002  18.5              True\n",
      "1  Company a001     16/02/1999  21.2             False\n",
      "2   Company 123     25/09/1998  22.5             False\n",
      "3          1234     12/02/2022  22.0              True\n",
      "4    Company 12     15/09/1997  23.0             False\n"
     ]
    }
   ],
   "source": [
    "# https://www.w3resource.com/python-exercises/pandas/string/python-pandas-string-exercise-9.php\n",
    "\n",
    "df = pd.DataFrame({\n",
    "    'name_code': ['Company','Company a001','Company 123', '1234', 'Company 12'],\n",
    "    'date_of_birth ': ['12/05/2002','16/02/1999','25/09/1998','12/02/2022','15/09/1997'],\n",
    "    'age': [18.5, 21.2, 22.5, 22, 23]\n",
    "})\n",
    "\n",
    "print(\"Original DataFrame:\")\n",
    "print(df)\n",
    "\n",
    "# both work\n",
    "# df['name_code_is_alphanumeric'] = list(map(lambda x: x.isalnum(), df['name_code']))\n",
    "df[\"namecode_isalnum\"] = df[\"name_code\"].str.isalnum()\n",
    "\n",
    "print(\"\\nWith New Column:\")\n",
    "print(df)"
   ]
  },
  {
   "cell_type": "code",
   "execution_count": 21,
   "metadata": {},
   "outputs": [
    {
     "name": "stdout",
     "output_type": "stream",
     "text": [
      "Original DataFrame:\n",
      "  company_code date_of_sale  sale_amount\n",
      "0         Abcd   12/05/2002      12348.5\n",
      "1         EFGF   16/02/1999     233331.2\n",
      "2      zefsalf   25/09/1998         22.5\n",
      "3      sdfslew   12/02/2022    2566552.0\n",
      "4      zekfsdf   15/09/1997         23.0\n",
      "  company_code date_of_sale  sale_amount  starts_with_zef\n",
      "0         Abcd   12/05/2002      12348.5            False\n",
      "1         EFGF   16/02/1999     233331.2            False\n",
      "2      zefsalf   25/09/1998         22.5             True\n",
      "3      sdfslew   12/02/2022    2566552.0            False\n",
      "4      zekfsdf   15/09/1997         23.0            False\n"
     ]
    }
   ],
   "source": [
    "# https://www.w3resource.com/python-exercises/pandas/string/python-pandas-string-exercise-17.php\n",
    "\n",
    "df = pd.DataFrame({\n",
    "    'company_code': ['Abcd','EFGF', 'zefsalf', 'sdfslew', 'zekfsdf'],\n",
    "    'date_of_sale': ['12/05/2002','16/02/1999','25/09/1998','12/02/2022','15/09/1997'],\n",
    "    'sale_amount': [12348.5, 233331.2, 22.5, 2566552.0, 23.0]\n",
    "})\n",
    "\n",
    "print(\"Original DataFrame:\")\n",
    "print(df)\n",
    "\n",
    "df[\"starts_with_zef\"] = list(map(lambda x: x.startswith(\"zef\"), df[\"company_code\"]))\n",
    "print(df)"
   ]
  },
  {
   "cell_type": "code",
   "execution_count": 59,
   "metadata": {},
   "outputs": [
    {
     "name": "stdout",
     "output_type": "stream",
     "text": [
      "Original DataFrame:\n",
      "                                  tweets\n",
      "0                    #Obama says goodbye\n",
      "1                     Retweets for #cash\n",
      "2  A political endorsement in #Indonesia\n",
      "3                 1 dog = many #retweets\n",
      "4                     Just a simple #egg\n",
      "\n",
      "Extracting #@word from dataframe columns:\n",
      "                                  tweets  hash_word\n",
      "0                    #Obama says goodbye      Obama\n",
      "1                     Retweets for #cash       cash\n",
      "2  A political endorsement in #Indonesia  Indonesia\n",
      "3                 1 dog = many #retweets   retweets\n",
      "4                     Just a simple #egg        egg\n"
     ]
    }
   ],
   "source": [
    "# https://www.w3resource.com/python-exercises/pandas/string/python-pandas-string-exercise-25.php\n",
    "\n",
    "df = pd.DataFrame({\n",
    "    'tweets': ['#Obama says goodbye','Retweets for #cash','A political endorsement in #Indonesia', '1 dog = many #retweets', 'Just a simple #egg']\n",
    "    })\n",
    "\n",
    "print(\"Original DataFrame:\")#\n",
    "print(df)\n",
    "\n",
    "def find_hash(text):\n",
    "    hword=re.findall(r'(?<=#)\\w+',text) # ??\n",
    "    return \" \".join(hword)\n",
    "\n",
    "df['hash_word']=df['tweets'].apply(lambda x: find_hash(x))\n",
    "print(\"\\nExtracting #@word from dataframe columns:\")\n",
    "print(df)\n"
   ]
  },
  {
   "cell_type": "code",
   "execution_count": 47,
   "metadata": {
    "scrolled": true
   },
   "outputs": [
    {
     "name": "stdout",
     "output_type": "stream",
     "text": [
      "Original DataFrame:\n",
      "  company_code                     address\n",
      "0        c0001        7277 Surrey Ave.1111\n",
      "1        c0002          920 N. Bishop Ave.\n",
      "2        c0003        9910 Golden Star St.\n",
      "3        c0003             1025 Dunbar St.\n",
      "4        c0004  1700 West Livingston Court\n",
      "Greater than 940:\n",
      "  company_code                     address       >940\n",
      "0        c0001        7277 Surrey Ave.1111  7277 1111\n",
      "1        c0002          920 N. Bishop Ave.           \n",
      "2        c0003        9910 Golden Star St.       9910\n",
      "3        c0003             1025 Dunbar St.       1025\n",
      "4        c0004  1700 West Livingston Court       1700\n"
     ]
    }
   ],
   "source": [
    "# https://www.w3resource.com/python-exercises/pandas/string/python-pandas-string-exercise-33.php\n",
    "\n",
    "df = pd.DataFrame({\n",
    "    'company_code': ['c0001','c0002','c0003', 'c0003', 'c0004'],\n",
    "    'address': ['7277 Surrey Ave.1111','920 N. Bishop Ave.','9910 Golden Star St.', '1025 Dunbar St.', '1700 West Livingston Court']\n",
    "    })\n",
    "\n",
    "print(\"Original DataFrame:\")\n",
    "print(df)\n",
    "\n",
    "def find_num(addresses):\n",
    "    nums = re.findall(r\"94[1-9]\\d|95[0-9]|9[6-9][0-9]\\d|[1-9]{1}[0-9]{3,}\", addresses)\n",
    "    return \" \".join(nums)\n",
    "\n",
    "df[\">940\"] = df[\"address\"].apply(lambda x: find_num(x))\n",
    "\n",
    "print(\"\\nGreater than 940:\")\n",
    "print(df)"
   ]
  },
  {
   "cell_type": "code",
   "execution_count": 60,
   "metadata": {
    "scrolled": true
   },
   "outputs": [
    {
     "name": "stdout",
     "output_type": "stream",
     "text": [
      "Original DataFrame:\n",
      "  company_code date_of_sale                      address\n",
      "0         Abcd   12/05/2002    9910 Surrey <b>Avenue</b>\n",
      "1         EFGF   16/02/1999          92 N. Bishop Avenue\n",
      "2      zefsalf   05/09/1998  9910 <br>Golden Star Avenue\n",
      "3      sdfslew   12/02/2022        102 Dunbar <i></i>St.\n",
      "4      zekfsdf   15/09/1997     17 West Livingston Court\n",
      "\n",
      "No Tags:\n",
      "  company_code date_of_sale                      address  \\\n",
      "0         Abcd   12/05/2002    9910 Surrey <b>Avenue</b>   \n",
      "1         EFGF   16/02/1999          92 N. Bishop Avenue   \n",
      "2      zefsalf   05/09/1998  9910 <br>Golden Star Avenue   \n",
      "3      sdfslew   12/02/2022        102 Dunbar <i></i>St.   \n",
      "4      zekfsdf   15/09/1997     17 West Livingston Court   \n",
      "\n",
      "                    no_tags  \n",
      "0        9910 Surrey Avenue  \n",
      "1       92 N. Bishop Avenue  \n",
      "2   9910 Golden Star Avenue  \n",
      "3            102 Dunbar St.  \n",
      "4  17 West Livingston Court  \n"
     ]
    }
   ],
   "source": [
    "# https://www.w3resource.com/python-exercises/pandas/string/python-pandas-string-exercise-41.php\n",
    "\n",
    "df = pd.DataFrame({\n",
    "    'company_code': ['Abcd','EFGF', 'zefsalf', 'sdfslew', 'zekfsdf'],\n",
    "    'date_of_sale': ['12/05/2002','16/02/1999','05/09/1998','12/02/2022','15/09/1997'],\n",
    "    'address': ['9910 Surrey <b>Avenue</b>','92 N. Bishop Avenue','9910 <br>Golden Star Avenue', '102 Dunbar <i></i>St.', '17 West Livingston Court']\n",
    "})\n",
    "print(\"Original DataFrame:\")\n",
    "print(df)\n",
    "\n",
    "def remove_tags(addresses):\n",
    "    plain = re.sub('<.*?>', '', addresses)\n",
    "    return plain\n",
    "    \n",
    "df[\"no_tags\"] = df[\"address\"].apply(lambda x: remove_tags(x))\n",
    "    \n",
    "print(\"\\nNo Tags:\")\n",
    "print(df)"
   ]
  },
  {
   "cell_type": "code",
   "execution_count": null,
   "metadata": {},
   "outputs": [],
   "source": []
  }
 ],
 "metadata": {
  "kernelspec": {
   "display_name": "Python 3",
   "language": "python",
   "name": "python3"
  },
  "language_info": {
   "codemirror_mode": {
    "name": "ipython",
    "version": 3
   },
   "file_extension": ".py",
   "mimetype": "text/x-python",
   "name": "python",
   "nbconvert_exporter": "python",
   "pygments_lexer": "ipython3",
   "version": "3.8.5"
  }
 },
 "nbformat": 4,
 "nbformat_minor": 4
}
