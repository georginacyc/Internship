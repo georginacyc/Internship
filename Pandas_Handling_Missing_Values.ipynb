{
 "cells": [
  {
   "cell_type": "code",
   "execution_count": 3,
   "metadata": {},
   "outputs": [],
   "source": [
    "import pandas as pd\n",
    "import numpy as np"
   ]
  },
  {
   "cell_type": "markdown",
   "metadata": {},
   "source": [
    "[Write a Pandas program to detect missing values of a given DataFrame. Display True or False.](https://www.w3resource.com/python-exercises/pandas/missing-values/python-pandas-missing-values-exercise-1.php)"
   ]
  },
  {
   "cell_type": "code",
   "execution_count": 8,
   "metadata": {},
   "outputs": [
    {
     "name": "stdout",
     "output_type": "stream",
     "text": [
      "Original Orders DataFrame:\n",
      "     ord_no  purch_amt    ord_date  customer_id  salesman_id\n",
      "0   70001.0     150.50  2012-10-05         3002       5002.0\n",
      "1       NaN     270.65  2012-09-10         3001       5003.0\n",
      "2   70002.0      65.26         NaN         3001       5001.0\n",
      "3   70004.0     110.50  2012-08-17         3003          NaN\n",
      "4       NaN     948.50  2012-09-10         3002       5002.0\n",
      "5   70005.0    2400.60  2012-07-27         3001       5001.0\n",
      "6       NaN    5760.00  2012-09-10         3001       5001.0\n",
      "7   70010.0    1983.43  2012-10-10         3004          NaN\n",
      "8   70003.0    2480.40  2012-10-10         3003       5003.0\n",
      "9   70012.0     250.45  2012-06-27         3002       5002.0\n",
      "10      NaN      75.29  2012-08-17         3001       5003.0\n",
      "11  70013.0    3045.60  2012-04-25         3001          NaN\n",
      "\n",
      "Missing values of the said dataframe:\n",
      "    ord_no  purch_amt  ord_date  customer_id  salesman_id\n",
      "0    False      False     False        False        False\n",
      "1     True      False     False        False        False\n",
      "2    False      False      True        False        False\n",
      "3    False      False     False        False         True\n",
      "4     True      False     False        False        False\n",
      "5    False      False     False        False        False\n",
      "6     True      False     False        False        False\n",
      "7    False      False     False        False         True\n",
      "8    False      False     False        False        False\n",
      "9    False      False     False        False        False\n",
      "10    True      False     False        False        False\n",
      "11   False      False     False        False         True\n"
     ]
    }
   ],
   "source": [
    "df = pd.DataFrame({\n",
    "'ord_no':[70001,np.nan,70002,70004,np.nan,70005,np.nan,70010,70003,70012,np.nan,70013],\n",
    "'purch_amt':[150.5,270.65,65.26,110.5,948.5,2400.6,5760,1983.43,2480.4,250.45, 75.29,3045.6],\n",
    "'ord_date': ['2012-10-05','2012-09-10',np.nan,'2012-08-17','2012-09-10','2012-07-27','2012-09-10','2012-10-10','2012-10-10','2012-06-27','2012-08-17','2012-04-25'],\n",
    "'customer_id':[3002,3001,3001,3003,3002,3001,3001,3004,3003,3002,3001,3001],\n",
    "'salesman_id':[5002,5003,5001,np.nan,5002,5001,5001,np.nan,5003,5002,5003,np.nan]})\n",
    "print(\"Original Orders DataFrame:\")\n",
    "print(df)\n",
    "print(\"\\nMissing values of the said dataframe:\")\n",
    "\n",
    "# both work\n",
    "# print(df.isnull())\n",
    "print(df.isna())"
   ]
  },
  {
   "cell_type": "markdown",
   "metadata": {},
   "source": [
    "[Write a Pandas program to identify the column(s) of a given DataFrame which have at least one missing value.](https://www.w3resource.com/python-exercises/pandas/missing-values/python-pandas-missing-values-exercise-2.php)"
   ]
  },
  {
   "cell_type": "code",
   "execution_count": 11,
   "metadata": {},
   "outputs": [
    {
     "name": "stdout",
     "output_type": "stream",
     "text": [
      "Original Orders DataFrame:\n",
      "     ord_no  purch_amt    ord_date  customer_id  salesman_id\n",
      "0   70001.0     150.50  2012-10-05         3002       5002.0\n",
      "1       NaN     270.65  2012-09-10         3001       5003.0\n",
      "2   70002.0      65.26         NaN         3001       5001.0\n",
      "3   70004.0     110.50  2012-08-17         3003          NaN\n",
      "4       NaN     948.50  2012-09-10         3002       5002.0\n",
      "5   70005.0    2400.60  2012-07-27         3001       5001.0\n",
      "6       NaN    5760.00  2012-09-10         3001       5001.0\n",
      "7   70010.0    1983.43  2012-10-10         3004          NaN\n",
      "8   70003.0    2480.40  2012-10-10         3003       5003.0\n",
      "9   70012.0     250.45  2012-06-27         3002       5002.0\n",
      "10      NaN      75.29  2012-08-17         3001       5003.0\n",
      "11  70013.0    3045.60  2012-04-25         3001          NaN\n",
      "\n",
      "Identify the columns which have at least one missing value:\n",
      "ord_no          True\n",
      "purch_amt      False\n",
      "ord_date        True\n",
      "customer_id    False\n",
      "salesman_id     True\n",
      "dtype: bool\n"
     ]
    }
   ],
   "source": [
    "df = pd.DataFrame({\n",
    "'ord_no':[70001,np.nan,70002,70004,np.nan,70005,np.nan,70010,70003,70012,np.nan,70013],\n",
    "'purch_amt':[150.5,270.65,65.26,110.5,948.5,2400.6,5760,1983.43,2480.4,250.45, 75.29,3045.6],\n",
    "'ord_date': ['2012-10-05','2012-09-10',np.nan,'2012-08-17','2012-09-10','2012-07-27','2012-09-10','2012-10-10','2012-10-10','2012-06-27','2012-08-17','2012-04-25'],\n",
    "'customer_id':[3002,3001,3001,3003,3002,3001,3001,3004,3003,3002,3001,3001],\n",
    "'salesman_id':[5002,5003,5001,np.nan,5002,5001,5001,np.nan,5003,5002,5003,np.nan]})\n",
    "print(\"Original Orders DataFrame:\")\n",
    "print(df)\n",
    "print(\"\\nIdentify the columns which have at least one missing value:\")\n",
    "print(df.isna().any())"
   ]
  },
  {
   "cell_type": "markdown",
   "metadata": {},
   "source": [
    "[Write a Pandas program to count the number of missing values in each column of a given DataFrame.](https://www.w3resource.com/python-exercises/pandas/missing-values/python-pandas-missing-values-exercise-3.php)"
   ]
  },
  {
   "cell_type": "code",
   "execution_count": 12,
   "metadata": {},
   "outputs": [
    {
     "name": "stdout",
     "output_type": "stream",
     "text": [
      "Original Orders DataFrame:\n",
      "     ord_no  purch_amt    ord_date  customer_id  salesman_id\n",
      "0   70001.0     150.50  2012-10-05         3002       5002.0\n",
      "1       NaN     270.65  2012-09-10         3001       5003.0\n",
      "2   70002.0      65.26         NaN         3001       5001.0\n",
      "3   70004.0     110.50  2012-08-17         3003          NaN\n",
      "4       NaN     948.50  2012-09-10         3002       5002.0\n",
      "5   70005.0    2400.60  2012-07-27         3001       5001.0\n",
      "6       NaN    5760.00  2012-09-10         3001       5001.0\n",
      "7   70010.0    1983.43  2012-10-10         3004          NaN\n",
      "8   70003.0    2480.40  2012-10-10         3003       5003.0\n",
      "9   70012.0     250.45  2012-06-27         3002       5002.0\n",
      "10      NaN      75.29  2012-08-17         3001       5003.0\n",
      "11  70013.0    3045.60  2012-04-25         3001          NaN\n",
      "\n",
      "Number of missing values of the said dataframe:\n",
      "ord_no         4\n",
      "purch_amt      0\n",
      "ord_date       1\n",
      "customer_id    0\n",
      "salesman_id    3\n",
      "dtype: int64\n"
     ]
    }
   ],
   "source": [
    "df = pd.DataFrame({\n",
    "'ord_no':[70001,np.nan,70002,70004,np.nan,70005,np.nan,70010,70003,70012,np.nan,70013],\n",
    "'purch_amt':[150.5,270.65,65.26,110.5,948.5,2400.6,5760,1983.43,2480.4,250.45, 75.29,3045.6],\n",
    "'ord_date': ['2012-10-05','2012-09-10',np.nan,'2012-08-17','2012-09-10','2012-07-27','2012-09-10','2012-10-10','2012-10-10','2012-06-27','2012-08-17','2012-04-25'],\n",
    "'customer_id':[3002,3001,3001,3003,3002,3001,3001,3004,3003,3002,3001,3001],\n",
    "'salesman_id':[5002,5003,5001,np.nan,5002,5001,5001,np.nan,5003,5002,5003,np.nan]})\n",
    "print(\"Original Orders DataFrame:\")\n",
    "print(df)\n",
    "print(\"\\nNumber of missing values of the said dataframe:\")\n",
    "print(df.isna().sum())"
   ]
  },
  {
   "cell_type": "markdown",
   "metadata": {},
   "source": [
    "[Write a Pandas program to find and replace the missing values in a given DataFrame which do not have any valuable information.](https://www.w3resource.com/python-exercises/pandas/missing-values/python-pandas-missing-values-exercise-4.php)"
   ]
  },
  {
   "cell_type": "code",
   "execution_count": 17,
   "metadata": {},
   "outputs": [
    {
     "name": "stdout",
     "output_type": "stream",
     "text": [
      "Original Orders DataFrame:\n",
      "   ord_no purch_amt    ord_date customer_id salesman_id\n",
      "0   70001     150.5           ?        3002        5002\n",
      "1     NaN    270.65  2012-09-10        3001        5003\n",
      "2   70002     65.26         NaN        3001           ?\n",
      "3   70004     110.5  2012-08-17        3003        5001\n",
      "4     NaN     948.5  2012-09-10        3002         NaN\n",
      "5   70005    2400.6  2012-07-27        3001        5002\n",
      "6      --      5760  2012-09-10        3001        5001\n",
      "7   70010         ?  2012-10-10        3004           ?\n",
      "8   70003     12.43  2012-10-10          --        5003\n",
      "9   70012    2480.4  2012-06-27        3002        5002\n",
      "10    NaN    250.45  2012-08-17        3001        5003\n",
      "11  70013    3045.6  2012-04-25        3001          --\n",
      "\n",
      "Replace the missing values with NaN:\n",
      "     ord_no  purch_amt    ord_date  customer_id  salesman_id\n",
      "0   70001.0     150.50         NaN       3002.0       5002.0\n",
      "1       NaN     270.65  2012-09-10       3001.0       5003.0\n",
      "2   70002.0      65.26         NaN       3001.0          NaN\n",
      "3   70004.0     110.50  2012-08-17       3003.0       5001.0\n",
      "4       NaN     948.50  2012-09-10       3002.0          NaN\n",
      "5   70005.0    2400.60  2012-07-27       3001.0       5002.0\n",
      "6       NaN    5760.00  2012-09-10       3001.0       5001.0\n",
      "7   70010.0        NaN  2012-10-10       3004.0          NaN\n",
      "8   70003.0      12.43  2012-10-10          NaN       5003.0\n",
      "9   70012.0    2480.40  2012-06-27       3002.0       5002.0\n",
      "10      NaN     250.45  2012-08-17       3001.0       5003.0\n",
      "11  70013.0    3045.60  2012-04-25       3001.0          NaN\n"
     ]
    }
   ],
   "source": [
    "df = pd.DataFrame({\n",
    "'ord_no':[70001,np.nan,70002,70004,np.nan,70005,\"--\",70010,70003,70012,np.nan,70013],\n",
    "'purch_amt':[150.5,270.65,65.26,110.5,948.5,2400.6,5760,\"?\",12.43,2480.4,250.45, 3045.6],\n",
    "'ord_date': ['?','2012-09-10',np.nan,'2012-08-17','2012-09-10','2012-07-27','2012-09-10','2012-10-10','2012-10-10','2012-06-27','2012-08-17','2012-04-25'],\n",
    "'customer_id':[3002,3001,3001,3003,3002,3001,3001,3004,\"--\",3002,3001,3001],\n",
    "'salesman_id':[5002,5003,\"?\",5001,np.nan,5002,5001,\"?\",5003,5002,5003,\"--\"]})\n",
    "print(\"Original Orders DataFrame:\")\n",
    "print(df)\n",
    "print(\"\\nReplace the missing values with NaN:\")\n",
    "# both work\n",
    "df.replace(to_replace=[\"--\", \"?\"], value=np.nan, inplace=True)\n",
    "# result = df.replace({\"?\": np.nan, \"--\": np.nan})\n",
    "print(df)"
   ]
  },
  {
   "cell_type": "markdown",
   "metadata": {},
   "source": [
    "[Write a Pandas program to drop the rows where at least one element is missing in a given DataFrame](https://www.w3resource.com/python-exercises/pandas/missing-values/python-pandas-missing-values-exercise-5.php)"
   ]
  },
  {
   "cell_type": "code",
   "execution_count": 22,
   "metadata": {},
   "outputs": [
    {
     "name": "stdout",
     "output_type": "stream",
     "text": [
      "Original Orders DataFrame:\n",
      "     ord_no  purch_amt    ord_date  customer_id  salesman_id\n",
      "0   70001.0     150.50  2012-10-05         3002       5002.0\n",
      "1       NaN     270.65  2012-09-10         3001       5003.0\n",
      "2   70002.0      65.26         NaN         3001       5001.0\n",
      "3   70004.0     110.50  2012-08-17         3003          NaN\n",
      "4       NaN     948.50  2012-09-10         3002       5002.0\n",
      "5   70005.0    2400.60  2012-07-27         3001       5001.0\n",
      "6       NaN    5760.00  2012-09-10         3001       5001.0\n",
      "7   70010.0    1983.43  2012-10-10         3004          NaN\n",
      "8   70003.0    2480.40  2012-10-10         3003       5003.0\n",
      "9   70012.0     250.45  2012-06-27         3002       5002.0\n",
      "10      NaN      75.29  2012-08-17         3001       5003.0\n",
      "11  70013.0    3045.60  2012-04-25         3001          NaN\n",
      "\n",
      "Drop the rows where at least one element is missing:\n",
      "    ord_no  purch_amt    ord_date  customer_id  salesman_id\n",
      "0  70001.0     150.50  2012-10-05         3002       5002.0\n",
      "5  70005.0    2400.60  2012-07-27         3001       5001.0\n",
      "8  70003.0    2480.40  2012-10-10         3003       5003.0\n",
      "9  70012.0     250.45  2012-06-27         3002       5002.0\n"
     ]
    }
   ],
   "source": [
    "df = pd.DataFrame({\n",
    "'ord_no':[70001,np.nan,70002,70004,np.nan,70005,np.nan,70010,70003,70012,np.nan,70013],\n",
    "'purch_amt':[150.5,270.65,65.26,110.5,948.5,2400.6,5760,1983.43,2480.4,250.45, 75.29,3045.6],\n",
    "'ord_date': ['2012-10-05','2012-09-10',np.nan,'2012-08-17','2012-09-10','2012-07-27','2012-09-10','2012-10-10','2012-10-10','2012-06-27','2012-08-17','2012-04-25'],\n",
    "'customer_id':[3002,3001,3001,3003,3002,3001,3001,3004,3003,3002,3001,3001],\n",
    "'salesman_id':[5002,5003,5001,np.nan,5002,5001,5001,np.nan,5003,5002,5003,np.nan]})\n",
    "\n",
    "print(\"Original Orders DataFrame:\")\n",
    "print(df)\n",
    "print(\"\\nDrop the rows where at least one element is missing:\")\n",
    "print(df.dropna())"
   ]
  },
  {
   "cell_type": "markdown",
   "metadata": {},
   "source": [
    "[Write a Pandas program to drop the columns where at least one element is missing in a given DataFrame.](https://www.w3resource.com/python-exercises/pandas/missing-values/python-pandas-missing-values-exercise-6.php)"
   ]
  },
  {
   "cell_type": "code",
   "execution_count": 25,
   "metadata": {},
   "outputs": [
    {
     "name": "stdout",
     "output_type": "stream",
     "text": [
      "Original Orders DataFrame:\n",
      "     ord_no  purch_amt    ord_date  customer_id  salesman_id\n",
      "0   70001.0     150.50  2012-10-05         3002       5002.0\n",
      "1       NaN     270.65  2012-09-10         3001       5003.0\n",
      "2   70002.0      65.26         NaN         3001       5001.0\n",
      "3   70004.0     110.50  2012-08-17         3003          NaN\n",
      "4       NaN     948.50  2012-09-10         3002       5002.0\n",
      "5   70005.0    2400.60  2012-07-27         3001       5001.0\n",
      "6       NaN    5760.00  2012-09-10         3001       5001.0\n",
      "7   70010.0    1983.43  2012-10-10         3004          NaN\n",
      "8   70003.0    2480.40  2012-10-10         3003       5003.0\n",
      "9   70012.0     250.45  2012-06-27         3002       5002.0\n",
      "10      NaN      75.29  2012-08-17         3001       5003.0\n",
      "11  70013.0    3045.60  2012-04-25         3001          NaN\n",
      "\n",
      "Drop the columns where at least one element is missing:\n",
      "    purch_amt  customer_id\n",
      "0      150.50         3002\n",
      "1      270.65         3001\n",
      "2       65.26         3001\n",
      "3      110.50         3003\n",
      "4      948.50         3002\n",
      "5     2400.60         3001\n",
      "6     5760.00         3001\n",
      "7     1983.43         3004\n",
      "8     2480.40         3003\n",
      "9      250.45         3002\n",
      "10      75.29         3001\n",
      "11    3045.60         3001\n"
     ]
    }
   ],
   "source": [
    "df = pd.DataFrame({\n",
    "'ord_no':[70001,np.nan,70002,70004,np.nan,70005,np.nan,70010,70003,70012,np.nan,70013],\n",
    "'purch_amt':[150.5,270.65,65.26,110.5,948.5,2400.6,5760,1983.43,2480.4,250.45, 75.29,3045.6],\n",
    "'ord_date': ['2012-10-05','2012-09-10',np.nan,'2012-08-17','2012-09-10','2012-07-27','2012-09-10','2012-10-10','2012-10-10','2012-06-27','2012-08-17','2012-04-25'],\n",
    "'customer_id':[3002,3001,3001,3003,3002,3001,3001,3004,3003,3002,3001,3001],\n",
    "'salesman_id':[5002,5003,5001,np.nan,5002,5001,5001,np.nan,5003,5002,5003,np.nan]})\n",
    "\n",
    "print(\"Original Orders DataFrame:\")\n",
    "print(df)\n",
    "print(\"\\nDrop the columns where at least one element is missing:\")\n",
    "\n",
    "# both work\n",
    "print(df.dropna(axis=1))\n",
    "# print(df.dropna(axis=\"columns\"))"
   ]
  },
  {
   "cell_type": "markdown",
   "metadata": {},
   "source": [
    "[Write a Pandas program to drop the rows where all elements are missing in a given DataFrame.](https://www.w3resource.com/python-exercises/pandas/missing-values/python-pandas-missing-values-exercise-7.php)"
   ]
  },
  {
   "cell_type": "code",
   "execution_count": 26,
   "metadata": {},
   "outputs": [
    {
     "name": "stdout",
     "output_type": "stream",
     "text": [
      "Original Orders DataFrame:\n",
      "     ord_no  purch_amt    ord_date  customer_id\n",
      "0       NaN        NaN         NaN          NaN\n",
      "1       NaN     270.65  2012-09-10       3001.0\n",
      "2   70002.0      65.26         NaN       3001.0\n",
      "3   70004.0     110.50  2012-08-17       3003.0\n",
      "4       NaN     948.50  2012-09-10       3002.0\n",
      "5   70005.0    2400.60  2012-07-27       3001.0\n",
      "6       NaN    5760.00  2012-09-10       3001.0\n",
      "7   70010.0    1983.43  2012-10-10       3004.0\n",
      "8   70003.0    2480.40  2012-10-10       3003.0\n",
      "9   70012.0     250.45  2012-06-27       3002.0\n",
      "10      NaN      75.29  2012-08-17       3001.0\n",
      "11  70013.0    3045.60  2012-04-25       3001.0\n",
      "\n",
      "Drop the rows where all elements are missing:\n",
      "     ord_no  purch_amt    ord_date  customer_id\n",
      "1       NaN     270.65  2012-09-10       3001.0\n",
      "2   70002.0      65.26         NaN       3001.0\n",
      "3   70004.0     110.50  2012-08-17       3003.0\n",
      "4       NaN     948.50  2012-09-10       3002.0\n",
      "5   70005.0    2400.60  2012-07-27       3001.0\n",
      "6       NaN    5760.00  2012-09-10       3001.0\n",
      "7   70010.0    1983.43  2012-10-10       3004.0\n",
      "8   70003.0    2480.40  2012-10-10       3003.0\n",
      "9   70012.0     250.45  2012-06-27       3002.0\n",
      "10      NaN      75.29  2012-08-17       3001.0\n",
      "11  70013.0    3045.60  2012-04-25       3001.0\n"
     ]
    }
   ],
   "source": [
    "df = pd.DataFrame({\n",
    "'ord_no':[np.nan,np.nan,70002,70004,np.nan,70005,np.nan,70010,70003,70012,np.nan,70013],\n",
    "'purch_amt':[np.nan,270.65,65.26,110.5,948.5,2400.6,5760,1983.43,2480.4,250.45, 75.29,3045.6],\n",
    "'ord_date': [np.nan,'2012-09-10',np.nan,'2012-08-17','2012-09-10','2012-07-27','2012-09-10','2012-10-10','2012-10-10','2012-06-27','2012-08-17','2012-04-25'],\n",
    "'customer_id':[np.nan,3001,3001,3003,3002,3001,3001,3004,3003,3002,3001,3001]})\n",
    "\n",
    "print(\"Original Orders DataFrame:\")\n",
    "print(df)\n",
    "print(\"\\nDrop the rows where all elements are missing:\")\n",
    "print(df.dropna(how=\"all\"))"
   ]
  },
  {
   "cell_type": "markdown",
   "metadata": {},
   "source": [
    "[Write a Pandas program to drop those rows from a given DataFrame in which specific columns have missing values.](https://www.w3resource.com/python-exercises/pandas/missing-values/python-pandas-missing-values-exercise-9.php)"
   ]
  },
  {
   "cell_type": "code",
   "execution_count": 28,
   "metadata": {},
   "outputs": [
    {
     "name": "stdout",
     "output_type": "stream",
     "text": [
      "Original Orders DataFrame:\n",
      "     ord_no  purch_amt    ord_date  customer_id\n",
      "0       NaN        NaN         NaN          NaN\n",
      "1       NaN     270.65  2012-09-10       3001.0\n",
      "2   70002.0      65.26         NaN       3001.0\n",
      "3       NaN        NaN         NaN          NaN\n",
      "4       NaN     948.50  2012-09-10       3002.0\n",
      "5   70005.0    2400.60  2012-07-27       3001.0\n",
      "6       NaN    5760.00  2012-09-10       3001.0\n",
      "7   70010.0    1983.43  2012-10-10       3004.0\n",
      "8   70003.0    2480.40  2012-10-10       3003.0\n",
      "9   70012.0     250.45  2012-06-27       3002.0\n",
      "10      NaN      75.29  2012-08-17       3001.0\n",
      "11      NaN        NaN         NaN          NaN\n",
      "\n",
      "Drop those rows in which specific columns have missing values:\n",
      "     ord_no  purch_amt    ord_date  customer_id\n",
      "1       NaN     270.65  2012-09-10       3001.0\n",
      "2   70002.0      65.26         NaN       3001.0\n",
      "4       NaN     948.50  2012-09-10       3002.0\n",
      "5   70005.0    2400.60  2012-07-27       3001.0\n",
      "6       NaN    5760.00  2012-09-10       3001.0\n",
      "7   70010.0    1983.43  2012-10-10       3004.0\n",
      "8   70003.0    2480.40  2012-10-10       3003.0\n",
      "9   70012.0     250.45  2012-06-27       3002.0\n",
      "10      NaN      75.29  2012-08-17       3001.0\n",
      "    ord_no  purch_amt    ord_date  customer_id\n",
      "2  70002.0      65.26         NaN       3001.0\n",
      "5  70005.0    2400.60  2012-07-27       3001.0\n",
      "7  70010.0    1983.43  2012-10-10       3004.0\n",
      "8  70003.0    2480.40  2012-10-10       3003.0\n",
      "9  70012.0     250.45  2012-06-27       3002.0\n"
     ]
    }
   ],
   "source": [
    "df = pd.DataFrame({\n",
    "'ord_no':[np.nan,np.nan,70002,np.nan,np.nan,70005,np.nan,70010,70003,70012,np.nan,np.nan],\n",
    "'purch_amt':[np.nan,270.65,65.26,np.nan,948.5,2400.6,5760,1983.43,2480.4,250.45, 75.29,np.nan],\n",
    "'ord_date': [np.nan,'2012-09-10',np.nan,np.nan,'2012-09-10','2012-07-27','2012-09-10','2012-10-10','2012-10-10','2012-06-27','2012-08-17',np.nan],\n",
    "'customer_id':[np.nan,3001,3001,np.nan,3002,3001,3001,3004,3003,3002,3001,np.nan]})\n",
    "print(\"Original Orders DataFrame:\")\n",
    "print(df)\n",
    "print(\"\\nDrop those rows in which specific columns have missing values:\")\n",
    "print(df.dropna(subset=[\"customer_id\"])) # drops row if customer_id has nan value\n",
    "print(df.dropna(subset=[\"customer_id\", \"ord_no\"])) # drops row if customer_id AND ord_no has nan value"
   ]
  },
  {
   "cell_type": "markdown",
   "metadata": {},
   "source": [
    "[Write a Pandas program to calculate the total number of missing values in a DataFrame.](https://www.w3resource.com/python-exercises/pandas/missing-values/python-pandas-missing-values-exercise-11.php)"
   ]
  },
  {
   "cell_type": "code",
   "execution_count": 35,
   "metadata": {},
   "outputs": [
    {
     "name": "stdout",
     "output_type": "stream",
     "text": [
      "Original Orders DataFrame:\n",
      "     ord_no  purch_amt    ord_date  customer_id\n",
      "0       NaN        NaN         NaN          NaN\n",
      "1       NaN     270.65  2012-09-10       3001.0\n",
      "2   70002.0      65.26         NaN       3001.0\n",
      "3       NaN        NaN         NaN          NaN\n",
      "4       NaN     948.50  2012-09-10       3002.0\n",
      "5   70005.0    2400.60  2012-07-27       3001.0\n",
      "6       NaN    5760.00  2012-09-10       3001.0\n",
      "7   70010.0    1983.43  2012-10-10       3004.0\n",
      "8   70003.0    2480.40  2012-10-10       3003.0\n",
      "9   70012.0     250.45  2012-06-27       3002.0\n",
      "10      NaN      75.29  2012-08-17       3001.0\n",
      "11      NaN        NaN         NaN          NaN\n",
      "\n",
      "Total number of missing values of the said DataFrame:\n",
      "17\n"
     ]
    }
   ],
   "source": [
    "df = pd.DataFrame({\n",
    "'ord_no':[np.nan,np.nan,70002,np.nan,np.nan,70005,np.nan,70010,70003,70012,np.nan,np.nan],\n",
    "'purch_amt':[np.nan,270.65,65.26,np.nan,948.5,2400.6,5760,1983.43,2480.4,250.45, 75.29,np.nan],\n",
    "'ord_date': [np.nan,'2012-09-10',np.nan,np.nan,'2012-09-10','2012-07-27','2012-09-10','2012-10-10','2012-10-10','2012-06-27','2012-08-17',np.nan],\n",
    "'customer_id':[np.nan,3001,3001,np.nan,3002,3001,3001,3004,3003,3002,3001,np.nan]})\n",
    "print(\"Original Orders DataFrame:\")\n",
    "print(df)\n",
    "print(\"\\nTotal number of missing values of the said DataFrame:\")\n",
    "# print(df.isna().count()) DOESNT WORK because .count() counts the number of rows\n",
    "print(df.isna().sum().sum())"
   ]
  },
  {
   "cell_type": "markdown",
   "metadata": {},
   "source": [
    "[Write a Pandas program to replace NaNs with a single constant value in specified columns in a DataFrame.](https://www.w3resource.com/python-exercises/pandas/missing-values/python-pandas-missing-values-exercise-12.php)"
   ]
  },
  {
   "cell_type": "code",
   "execution_count": 38,
   "metadata": {},
   "outputs": [
    {
     "name": "stdout",
     "output_type": "stream",
     "text": [
      "Original Orders DataFrame:\n",
      "     ord_no  purch_amt    ord_date  customer_id  salesman_id\n",
      "0   70001.0     150.50  2012-10-05         3002       5002.0\n",
      "1       NaN     270.65  2012-09-10         3001       5003.0\n",
      "2   70002.0      65.26         NaN         3001       5001.0\n",
      "3   70004.0     110.50  2012-08-17         3003          NaN\n",
      "4       NaN     948.50  2012-09-10         3002       5002.0\n",
      "5   70005.0    2400.60  2012-07-27         3001       5001.0\n",
      "6       NaN    5760.00  2012-09-10         3001       5001.0\n",
      "7   70010.0    1983.43  2012-10-10         3004          NaN\n",
      "8   70003.0    2480.40  2012-10-10         3003       5003.0\n",
      "9   70012.0     250.45  2012-06-27         3002       5002.0\n",
      "10      NaN      75.29  2012-08-17         3001       5003.0\n",
      "11  70013.0    3045.60  2012-04-25         3001          NaN\n",
      "\n",
      "Replace NaNs with a single constant value:\n",
      "0     70001.0\n",
      "1         0.0\n",
      "2     70002.0\n",
      "3     70004.0\n",
      "4         0.0\n",
      "5     70005.0\n",
      "6         0.0\n",
      "7     70010.0\n",
      "8     70003.0\n",
      "9     70012.0\n",
      "10        0.0\n",
      "11    70013.0\n",
      "Name: ord_no, dtype: float64\n"
     ]
    }
   ],
   "source": [
    "df = pd.DataFrame({\n",
    "'ord_no':[70001,np.nan,70002,70004,np.nan,70005,np.nan,70010,70003,70012,np.nan,70013],\n",
    "'purch_amt':[150.5,270.65,65.26,110.5,948.5,2400.6,5760,1983.43,2480.4,250.45, 75.29,3045.6],\n",
    "'ord_date': ['2012-10-05','2012-09-10',np.nan,'2012-08-17','2012-09-10','2012-07-27','2012-09-10','2012-10-10','2012-10-10','2012-06-27','2012-08-17','2012-04-25'],\n",
    "'customer_id':[3002,3001,3001,3003,3002,3001,3001,3004,3003,3002,3001,3001],\n",
    "'salesman_id':[5002,5003,5001,np.nan,5002,5001,5001,np.nan,5003,5002,5003,np.nan]})\n",
    "print(\"Original Orders DataFrame:\")\n",
    "print(df)\n",
    "print(\"\\nReplace NaNs with a single constant value:\")\n",
    "print(df[\"ord_no\"].replace({np.nan: 0}))"
   ]
  },
  {
   "cell_type": "markdown",
   "metadata": {},
   "source": [
    "[Write a Pandas program to replace NaNs with the value from the previous row or the next row in a given DataFrame.](https://www.w3resource.com/python-exercises/pandas/missing-values/python-pandas-missing-values-exercise-13.php)"
   ]
  },
  {
   "cell_type": "code",
   "execution_count": 41,
   "metadata": {},
   "outputs": [
    {
     "name": "stdout",
     "output_type": "stream",
     "text": [
      "Original Orders DataFrame:\n",
      "     ord_no  purch_amt  sale_amt    ord_date  customer_id  salesman_id\n",
      "0   70001.0     150.50     10.50  2012-10-05         3002       5002.0\n",
      "1       NaN        NaN     20.65  2012-09-10         3001       5003.0\n",
      "2   70002.0      65.26       NaN         NaN         3001       5001.0\n",
      "3   70004.0     110.50     11.50  2012-08-17         3003          NaN\n",
      "4       NaN     948.50     98.50  2012-09-10         3002       5002.0\n",
      "5   70005.0        NaN       NaN  2012-07-27         3001       5001.0\n",
      "6       NaN    5760.00     57.00  2012-09-10         3001       5001.0\n",
      "7   70010.0    1983.43     19.43  2012-10-10         3004          NaN\n",
      "8   70003.0        NaN       NaN  2012-10-10         3003       5003.0\n",
      "9   70012.0     250.45     25.45  2012-06-27         3002       5002.0\n",
      "10      NaN      75.29     75.29  2012-08-17         3001       5003.0\n",
      "11  70013.0    3045.60     35.60  2012-04-25         3001          NaN\n",
      "\n",
      "Replacing NaNs with the value from the previous row (purch_amt):\n",
      "0      150.50\n",
      "1      150.50\n",
      "2       65.26\n",
      "3      110.50\n",
      "4      948.50\n",
      "5      948.50\n",
      "6     5760.00\n",
      "7     1983.43\n",
      "8     1983.43\n",
      "9      250.45\n",
      "10      75.29\n",
      "11    3045.60\n",
      "Name: purch_amt, dtype: float64\n"
     ]
    }
   ],
   "source": [
    "df = pd.DataFrame({\n",
    "'ord_no':[70001,np.nan,70002,70004,np.nan,70005,np.nan,70010,70003,70012,np.nan,70013],\n",
    "'purch_amt':[150.5,np.nan,65.26,110.5,948.5,np.nan,5760,1983.43,np.nan,250.45, 75.29,3045.6],\n",
    "'sale_amt':[10.5,20.65,np.nan,11.5,98.5,np.nan,57,19.43,np.nan,25.45, 75.29,35.6],\n",
    "'ord_date': ['2012-10-05','2012-09-10',np.nan,'2012-08-17','2012-09-10','2012-07-27','2012-09-10','2012-10-10','2012-10-10','2012-06-27','2012-08-17','2012-04-25'],\n",
    "'customer_id':[3002,3001,3001,3003,3002,3001,3001,3004,3003,3002,3001,3001],\n",
    "'salesman_id':[5002,5003,5001,np.nan,5002,5001,5001,np.nan,5003,5002,5003,np.nan]})\n",
    "print(\"Original Orders DataFrame:\")\n",
    "print(df)\n",
    "print(\"\\nReplacing NaNs with the value from the previous row (purch_amt):\")\n",
    "print(df[\"purch_amt\"].fillna(method=\"ffill\"))"
   ]
  },
  {
   "cell_type": "markdown",
   "metadata": {},
   "source": [
    "[Write a Pandas program to replace NaNs with median or mean of the specified columns in a given DataFrame.](https://www.w3resource.com/python-exercises/pandas/missing-values/python-pandas-missing-values-exercise-14.php)"
   ]
  },
  {
   "cell_type": "code",
   "execution_count": 43,
   "metadata": {},
   "outputs": [
    {
     "name": "stdout",
     "output_type": "stream",
     "text": [
      "Original Orders DataFrame:\n",
      "     ord_no  purch_amt  sale_amt    ord_date  customer_id  salesman_id\n",
      "0   70001.0     150.50     10.50  2012-10-05         3002       5002.0\n",
      "1       NaN        NaN     20.65  2012-09-10         3001       5003.0\n",
      "2   70002.0      65.26       NaN         NaN         3001       5001.0\n",
      "3   70004.0     110.50     11.50  2012-08-17         3003          NaN\n",
      "4       NaN     948.50     98.50  2012-09-10         3002       5002.0\n",
      "5   70005.0        NaN       NaN  2012-07-27         3001       5001.0\n",
      "6       NaN    5760.00     57.00  2012-09-10         3001       5001.0\n",
      "7   70010.0    1983.43     19.43  2012-10-10         3004          NaN\n",
      "8   70003.0        NaN       NaN  2012-10-10         3003       5003.0\n",
      "9   70012.0     250.45     25.45  2012-06-27         3002       5002.0\n",
      "10      NaN      75.29     75.29  2012-08-17         3001       5003.0\n",
      "11  70013.0    3045.60     35.60  2012-04-25         3001          NaN\n",
      "Using median in purch_amt to replace NaN:\n",
      "0      150.50\n",
      "1      250.45\n",
      "2       65.26\n",
      "3      110.50\n",
      "4      948.50\n",
      "5      250.45\n",
      "6     5760.00\n",
      "7     1983.43\n",
      "8      250.45\n",
      "9      250.45\n",
      "10      75.29\n",
      "11    3045.60\n",
      "Name: purch_amt, dtype: float64\n"
     ]
    }
   ],
   "source": [
    "df = pd.DataFrame({\n",
    "'ord_no':[70001,np.nan,70002,70004,np.nan,70005,np.nan,70010,70003,70012,np.nan,70013],\n",
    "'purch_amt':[150.5,np.nan,65.26,110.5,948.5,np.nan,5760,1983.43,np.nan,250.45, 75.29,3045.6],\n",
    "'sale_amt':[10.5,20.65,np.nan,11.5,98.5,np.nan,57,19.43,np.nan,25.45, 75.29,35.6],\n",
    "'ord_date': ['2012-10-05','2012-09-10',np.nan,'2012-08-17','2012-09-10','2012-07-27','2012-09-10','2012-10-10','2012-10-10','2012-06-27','2012-08-17','2012-04-25'],\n",
    "'customer_id':[3002,3001,3001,3003,3002,3001,3001,3004,3003,3002,3001,3001],\n",
    "'salesman_id':[5002,5003,5001,np.nan,5002,5001,5001,np.nan,5003,5002,5003,np.nan]})\n",
    "print(\"Original Orders DataFrame:\")\n",
    "print(df)\n",
    "print(\"Using median in purch_amt to replace NaN:\")\n",
    "print(df[\"purch_amt\"].fillna(df[\"purch_amt\"].median()))"
   ]
  },
  {
   "cell_type": "markdown",
   "metadata": {},
   "source": [
    "[Write a Pandas program to interpolate the missing values using the Linear Interpolation method in a given DataFrame.](https://www.w3resource.com/python-exercises/pandas/missing-values/python-pandas-missing-values-exercise-15.php)\n",
    "\n",
    "From Wikipedia, in mathematics, linear interpolation is a method of curve fitting using linear polynomials to construct new data points within the range of a discrete set of known data points."
   ]
  },
  {
   "cell_type": "code",
   "execution_count": 44,
   "metadata": {},
   "outputs": [
    {
     "name": "stdout",
     "output_type": "stream",
     "text": [
      "Original Orders DataFrame:\n",
      "     ord_no  purch_amt  sale_amt    ord_date  customer_id  salesman_id\n",
      "0   70001.0     150.50     10.50  2012-10-05         3002       5002.0\n",
      "1       NaN        NaN     20.65  2012-09-10         3001       5003.0\n",
      "2   70002.0      65.26       NaN         NaN         3001       5001.0\n",
      "3   70004.0     110.50     11.50  2012-08-17         3003          NaN\n",
      "4       NaN     948.50     98.50  2012-09-10         3002       5002.0\n",
      "5   70005.0        NaN       NaN  2012-07-27         3001       5001.0\n",
      "6       NaN    5760.00     57.00  2012-09-10         3001       5001.0\n",
      "7   70010.0    1983.43     19.43  2012-10-10         3004          NaN\n",
      "8   70003.0        NaN       NaN  2012-10-10         3003       5003.0\n",
      "9   70012.0     250.45     25.45  2012-06-27         3002       5002.0\n",
      "10      NaN      75.29     75.29  2012-08-17         3001       5003.0\n",
      "11  70013.0    3045.60     35.60  2012-04-25         3001          NaN\n",
      "\n",
      "Interpolate the missing values using the Linear Interpolation method (purch_amt):\n",
      "     ord_no  purch_amt  sale_amt    ord_date  customer_id  salesman_id\n",
      "0   70001.0     150.50     10.50  2012-10-05         3002       5002.0\n",
      "1       NaN     107.88     20.65  2012-09-10         3001       5003.0\n",
      "2   70002.0      65.26       NaN         NaN         3001       5001.0\n",
      "3   70004.0     110.50     11.50  2012-08-17         3003          NaN\n",
      "4       NaN     948.50     98.50  2012-09-10         3002       5002.0\n",
      "5   70005.0    3354.25       NaN  2012-07-27         3001       5001.0\n",
      "6       NaN    5760.00     57.00  2012-09-10         3001       5001.0\n",
      "7   70010.0    1983.43     19.43  2012-10-10         3004          NaN\n",
      "8   70003.0    1116.94       NaN  2012-10-10         3003       5003.0\n",
      "9   70012.0     250.45     25.45  2012-06-27         3002       5002.0\n",
      "10      NaN      75.29     75.29  2012-08-17         3001       5003.0\n",
      "11  70013.0    3045.60     35.60  2012-04-25         3001          NaN\n"
     ]
    }
   ],
   "source": [
    "df = pd.DataFrame({\n",
    "'ord_no':[70001,np.nan,70002,70004,np.nan,70005,np.nan,70010,70003,70012,np.nan,70013],\n",
    "'purch_amt':[150.5,np.nan,65.26,110.5,948.5,np.nan,5760,1983.43,np.nan,250.45, 75.29,3045.6],\n",
    "'sale_amt':[10.5,20.65,np.nan,11.5,98.5,np.nan,57,19.43,np.nan,25.45, 75.29,35.6],\n",
    "'ord_date': ['2012-10-05','2012-09-10',np.nan,'2012-08-17','2012-09-10','2012-07-27','2012-09-10','2012-10-10','2012-10-10','2012-06-27','2012-08-17','2012-04-25'],\n",
    "'customer_id':[3002,3001,3001,3003,3002,3001,3001,3004,3003,3002,3001,3001],\n",
    "'salesman_id':[5002,5003,5001,np.nan,5002,5001,5001,np.nan,5003,5002,5003,np.nan]})\n",
    "print(\"Original Orders DataFrame:\")\n",
    "print(df) \n",
    "print(\"\\nInterpolate the missing values using the Linear Interpolation method (purch_amt):\")\n",
    "df['purch_amt'].interpolate(method='linear', direction = 'forward', inplace=True) \n",
    "print(df)"
   ]
  },
  {
   "cell_type": "markdown",
   "metadata": {},
   "source": [
    "[Write a Pandas program to count the number of missing values of a specified column in a given DataFrame.](https://www.w3resource.com/python-exercises/pandas/missing-values/python-pandas-missing-values-exercise-16.php)"
   ]
  },
  {
   "cell_type": "code",
   "execution_count": 48,
   "metadata": {},
   "outputs": [
    {
     "name": "stdout",
     "output_type": "stream",
     "text": [
      "Original Orders DataFrame:\n",
      "     ord_no  purch_amt  sale_amt    ord_date  customer_id  salesman_id\n",
      "0   70001.0     150.50     10.50  2012-10-05         3002       5002.0\n",
      "1       NaN        NaN     20.65  2012-09-10         3001       5003.0\n",
      "2   70002.0      65.26       NaN         NaN         3001       5001.0\n",
      "3   70004.0     110.50     11.50  2012-08-17         3003          NaN\n",
      "4       NaN     948.50     98.50  2012-09-10         3002       5002.0\n",
      "5   70005.0        NaN       NaN  2012-07-27         3001       5001.0\n",
      "6       NaN    5760.00     57.00  2012-09-10         3001       5001.0\n",
      "7   70010.0    1983.43     19.43  2012-10-10         3004          NaN\n",
      "8   70003.0        NaN       NaN  2012-10-10         3003       5003.0\n",
      "9   70012.0     250.45     25.45  2012-06-27         3002       5002.0\n",
      "10      NaN      75.29     75.29  2012-08-17         3001       5003.0\n",
      "11  70013.0    3045.60     35.60  2012-04-25         3001          NaN\n",
      "\n",
      "Missing values in purch_amt column:\n",
      "3\n"
     ]
    }
   ],
   "source": [
    "df = pd.DataFrame({\n",
    "'ord_no':[70001,np.nan,70002,70004,np.nan,70005,np.nan,70010,70003,70012,np.nan,70013],\n",
    "'purch_amt':[150.5,np.nan,65.26,110.5,948.5,np.nan,5760,1983.43,np.nan,250.45, 75.29,3045.6],\n",
    "'sale_amt':[10.5,20.65,np.nan,11.5,98.5,np.nan,57,19.43,np.nan,25.45, 75.29,35.6],\n",
    "'ord_date': ['2012-10-05','2012-09-10',np.nan,'2012-08-17','2012-09-10','2012-07-27','2012-09-10','2012-10-10','2012-10-10','2012-06-27','2012-08-17','2012-04-25'],\n",
    "'customer_id':[3002,3001,3001,3003,3002,3001,3001,3004,3003,3002,3001,3001],\n",
    "'salesman_id':[5002,5003,5001,np.nan,5002,5001,5001,np.nan,5003,5002,5003,np.nan]})\n",
    "print(\"Original Orders DataFrame:\")\n",
    "print(df) \n",
    "print(\"\\nMissing values in purch_amt column:\")\n",
    "# both work\n",
    "result = df['purch_amt'].value_counts(dropna=False).loc[np.nan]\n",
    "# result = df['purch_amt'].isna().sum()\n",
    "print(result)\n"
   ]
  },
  {
   "cell_type": "markdown",
   "metadata": {},
   "source": [
    "[Write a Pandas program to find the Indexes of missing values in a given DataFrame.](https://www.w3resource.com/python-exercises/pandas/missing-values/python-pandas-missing-values-exercise-18.php)"
   ]
  },
  {
   "cell_type": "code",
   "execution_count": 57,
   "metadata": {},
   "outputs": [
    {
     "name": "stdout",
     "output_type": "stream",
     "text": [
      "Original Orders DataFrame:\n",
      "     ord_no  purch_amt  sale_amt    ord_date  customer_id  salesman_id\n",
      "0   70001.0     150.50     10.50  2012-10-05         3002       5002.0\n",
      "1       NaN        NaN     20.65  2012-09-10         3001       5003.0\n",
      "2   70002.0      65.26       NaN         NaN         3001       5001.0\n",
      "3   70004.0     110.50     11.50  2012-08-17         3003          NaN\n",
      "4       NaN     948.50     98.50  2012-09-10         3002       5002.0\n",
      "5   70005.0        NaN       NaN  2012-07-27         3001       5001.0\n",
      "6       NaN    5760.00     57.00  2012-09-10         3001       5001.0\n",
      "7   70010.0    1983.43     19.43  2012-10-10         3004          NaN\n",
      "8   70003.0        NaN       NaN  2012-10-10         3003       5003.0\n",
      "9   70012.0     250.45     25.45  2012-06-27         3002       5002.0\n",
      "10      NaN      75.29     75.29  2012-08-17         3001       5003.0\n",
      "11  70013.0    3045.60     35.60  2012-04-25         3001          NaN\n",
      "\n",
      "Missing values in purch_amt column:\n",
      "(array([1, 5, 8], dtype=int64),)\n"
     ]
    }
   ],
   "source": [
    "df = pd.DataFrame({\n",
    "'ord_no':[70001,np.nan,70002,70004,np.nan,70005,np.nan,70010,70003,70012,np.nan,70013],\n",
    "'purch_amt':[150.5,np.nan,65.26,110.5,948.5,np.nan,5760,1983.43,np.nan,250.45, 75.29,3045.6],\n",
    "'sale_amt':[10.5,20.65,np.nan,11.5,98.5,np.nan,57,19.43,np.nan,25.45, 75.29,35.6],\n",
    "'ord_date': ['2012-10-05','2012-09-10',np.nan,'2012-08-17','2012-09-10','2012-07-27','2012-09-10','2012-10-10','2012-10-10','2012-06-27','2012-08-17','2012-04-25'],\n",
    "'customer_id':[3002,3001,3001,3003,3002,3001,3001,3004,3003,3002,3001,3001],\n",
    "'salesman_id':[5002,5003,5001,np.nan,5002,5001,5001,np.nan,5003,5002,5003,np.nan]})\n",
    "print(\"Original Orders DataFrame:\")\n",
    "print(df) \n",
    "print(\"\\nMissing values in purch_amt column:\")\n",
    "print(df[\"purch_amt\"].isna().to_numpy().nonzero()) # to_numpy: convert the DataFrame to a NumPy array; nonzero(): Return the indices of the elements that are non-zero."
   ]
  },
  {
   "cell_type": "markdown",
   "metadata": {},
   "source": [
    "[Write a Pandas program to replace the missing values with the most frequent values present in each column of a given DataFrame.](https://www.w3resource.com/python-exercises/pandas/missing-values/python-pandas-missing-values-exercise-19.php)"
   ]
  },
  {
   "cell_type": "code",
   "execution_count": 60,
   "metadata": {},
   "outputs": [
    {
     "name": "stdout",
     "output_type": "stream",
     "text": [
      "Original Orders DataFrame:\n",
      "     ord_no  purch_amt  sale_amt    ord_date  customer_id  salesman_id\n",
      "0   70001.0     150.50     10.50  2012-10-05         3002       5002.0\n",
      "1       NaN        NaN     20.65  2012-09-10         3001       5003.0\n",
      "2   70002.0      65.26       NaN         NaN         3001       5001.0\n",
      "3   70004.0     110.50     11.50  2012-08-17         3003          NaN\n",
      "4       NaN     948.50     98.50  2012-09-10         3002       5002.0\n",
      "5   70005.0        NaN       NaN  2012-07-27         3001       5001.0\n",
      "6       NaN    5760.00     57.00  2012-09-10         3001       5001.0\n",
      "7   70010.0    1983.43     19.43  2012-10-10         3004          NaN\n",
      "8   70003.0        NaN       NaN  2012-10-10         3003       5003.0\n",
      "9   70012.0     250.45     25.45  2012-06-27         3002       5002.0\n",
      "10      NaN      75.29     75.29  2012-08-17         3001       5003.0\n",
      "11  70013.0    3045.60     35.60  2012-04-25         3001          NaN\n",
      "\n",
      "Replace the missing values with the most frequent values present in each column:\n",
      "     ord_no  purch_amt  sale_amt    ord_date  customer_id  salesman_id\n",
      "0   70001.0     150.50     10.50  2012-10-05         3002       5002.0\n",
      "1   70001.0      65.26     20.65  2012-09-10         3001       5003.0\n",
      "2   70002.0      65.26     10.50  2012-09-10         3001       5001.0\n",
      "3   70004.0     110.50     11.50  2012-08-17         3003       5001.0\n",
      "4   70001.0     948.50     98.50  2012-09-10         3002       5002.0\n",
      "5   70005.0      65.26     10.50  2012-07-27         3001       5001.0\n",
      "6   70001.0    5760.00     57.00  2012-09-10         3001       5001.0\n",
      "7   70010.0    1983.43     19.43  2012-10-10         3004       5001.0\n",
      "8   70003.0      65.26     10.50  2012-10-10         3003       5003.0\n",
      "9   70012.0     250.45     25.45  2012-06-27         3002       5002.0\n",
      "10  70001.0      75.29     75.29  2012-08-17         3001       5003.0\n",
      "11  70013.0    3045.60     35.60  2012-04-25         3001       5001.0\n",
      "     ord_no  purch_amt  sale_amt    ord_date  customer_id  salesman_id\n",
      "0   70001.0     150.50     10.50  2012-10-05         3002       5002.0\n",
      "1   70002.0      75.29     20.65  2012-09-10         3001       5003.0\n",
      "2   70002.0      65.26     19.43         NaN         3001       5001.0\n",
      "3   70004.0     110.50     11.50  2012-08-17         3003          NaN\n",
      "4   70005.0     948.50     98.50  2012-09-10         3002       5002.0\n",
      "5   70005.0     948.50     35.60  2012-07-27         3001       5001.0\n",
      "6   70012.0    5760.00     57.00  2012-09-10         3001       5001.0\n",
      "7   70010.0    1983.43     19.43  2012-10-10         3004          NaN\n",
      "8   70003.0    5760.00     98.50  2012-10-10         3003       5003.0\n",
      "9   70012.0     250.45     25.45  2012-06-27         3002       5002.0\n",
      "10      NaN      75.29     75.29  2012-08-17         3001       5003.0\n",
      "11  70013.0    3045.60     35.60  2012-04-25         3001          NaN\n"
     ]
    }
   ],
   "source": [
    "df = pd.DataFrame({\n",
    "'ord_no':[70001,np.nan,70002,70004,np.nan,70005,np.nan,70010,70003,70012,np.nan,70013],\n",
    "'purch_amt':[150.5,np.nan,65.26,110.5,948.5,np.nan,5760,1983.43,np.nan,250.45, 75.29,3045.6],\n",
    "'sale_amt':[10.5,20.65,np.nan,11.5,98.5,np.nan,57,19.43,np.nan,25.45, 75.29,35.6],\n",
    "'ord_date': ['2012-10-05','2012-09-10',np.nan,'2012-08-17','2012-09-10','2012-07-27','2012-09-10','2012-10-10','2012-10-10','2012-06-27','2012-08-17','2012-04-25'],\n",
    "'customer_id':[3002,3001,3001,3003,3002,3001,3001,3004,3003,3002,3001,3001],\n",
    "'salesman_id':[5002,5003,5001,np.nan,5002,5001,5001,np.nan,5003,5002,5003,np.nan]})\n",
    "print(\"Original Orders DataFrame:\")\n",
    "print(df) \n",
    "print(\"\\nReplace the missing values with the most frequent values present in each column:\")\n",
    "print(df.fillna(df.mode().iloc[0])) # why need iloc[0] ??\n",
    "print(df.fillna(df.mode()))"
   ]
  },
  {
   "cell_type": "markdown",
   "metadata": {},
   "source": [
    "[Write a Pandas program to create a hitmap for more information about the distribution of missing values in a given DataFrame.](https://www.w3resource.com/python-exercises/pandas/missing-values/python-pandas-missing-values-exercise-20.php)"
   ]
  },
  {
   "cell_type": "code",
   "execution_count": 72,
   "metadata": {},
   "outputs": [
    {
     "data": {
      "image/png": "[encoded data removed]",
      "text/plain": [
       "<Figure size 1152x720 with 1 Axes>"
      ]
     },
     "metadata": {
      "needs_background": "light"
     },
     "output_type": "display_data"
    }
   ],
   "source": [
    "import seaborn as sns\n",
    "import matplotlib.pyplot as plt\n",
    "\n",
    "df = pd.DataFrame({\n",
    "'ord_no':[70001,np.nan,70002,70004,np.nan,70005,np.nan,70010,70003,70012,np.nan,70013],\n",
    "'purch_amt':[150.5,np.nan,65.26,110.5,948.5,np.nan,5760,1983.43,np.nan,250.45, 75.29,3045.6],\n",
    "'sale_amt':[10.5,20.65,np.nan,11.5,98.5,np.nan,57,19.43,np.nan,25.45, 75.29,35.6],\n",
    "'ord_date': ['2012-10-05','2012-09-10',np.nan,'2012-08-17','2012-09-10','2012-07-27','2012-09-10','2012-10-10','2012-10-10','2012-06-27','2012-08-17','2012-04-25'],\n",
    "'customer_id':[3002,3001,3001,3003,3002,3001,3001,3004,3003,3002,3001,3001],\n",
    "'salesman_id':[5002,5003,5001,np.nan,5002,5001,5001,np.nan,5003,5002,5003,np.nan]})\n",
    "\n",
    "plt.figure(figsize=(16,10))\n",
    "sns.heatmap(df.isnull(), cbar=False, cmap=\"YlGnBu\")\n",
    "plt.show()"
   ]
  }
 ],
 "metadata": {
  "kernelspec": {
   "display_name": "Python 3",
   "language": "python",
   "name": "python3"
  },
  "language_info": {
   "codemirror_mode": {
    "name": "ipython",
    "version": 3
   },
   "file_extension": ".py",
   "mimetype": "text/x-python",
   "name": "python",
   "nbconvert_exporter": "python",
   "pygments_lexer": "ipython3",
   "version": "3.7.7"
  }
 },
 "nbformat": 4,
 "nbformat_minor": 4
}
